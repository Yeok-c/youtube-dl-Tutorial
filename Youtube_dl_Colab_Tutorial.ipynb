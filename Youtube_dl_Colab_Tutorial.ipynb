{
  "nbformat": 4,
  "nbformat_minor": 0,
  "metadata": {
    "colab": {
      "name": "Youtube-dl Colab Tutorial.ipynb",
      "provenance": [],
      "collapsed_sections": [],
      "authorship_tag": "ABX9TyPQIW8zrIrxy87RbAdoUjqP",
      "include_colab_link": true
    },
    "kernelspec": {
      "name": "python3",
      "display_name": "Python 3"
    },
    "language_info": {
      "name": "python"
    }
  },
  "cells": [
    {
      "cell_type": "markdown",
      "metadata": {
        "id": "view-in-github",
        "colab_type": "text"
      },
      "source": [
        "<a href=\"https://colab.research.google.com/github/Yeok-c/youtube-dl-Tutorial/blob/main/Youtube_dl_Colab_Tutorial.ipynb\" target=\"_parent\"><img src=\"https://colab.research.google.com/assets/colab-badge.svg\" alt=\"Open In Colab\"/></a>"
      ]
    },
    {
      "cell_type": "markdown",
      "source": [
        "<a href=\"https://colab.research.google.com/github/enmwmak/EIE4122/blob/main/Gradient_vanishing.ipynb\" target=\"_parent\"><img src=\"https://colab.research.google.com/assets/colab-badge.svg\" alt=\"Open In Colab\"/></a>"
      ],
      "metadata": {
        "id": "OY4TVwGsw7eb"
      }
    },
    {
      "cell_type": "markdown",
      "source": [
        "## Install youtube-dl\n",
        "[youtube-dl](https://github.com/ytdl-org/youtube-dl) is a powerful cli tool that allows you to download videos from youtube.com or other video platforms. Coupled with python and online clusters you can download Youtube videos simultaneously and without affecting the internet speed / Youtube bandwidth to your computer.\n",
        "\n",
        "\n",
        "\n"
      ],
      "metadata": {
        "id": "wNzDphsFUEt9"
      }
    },
    {
      "cell_type": "code",
      "source": [
        "!sudo curl -L https://yt-dl.org/downloads/latest/youtube-dl -o /usr/local/bin/youtube-dl\n",
        "!sudo chmod a+rx /usr/local/bin/youtube-dl\n",
        "\n",
        "# Colab appears to have ffmpeg pre-installed but in other containers it may be necessary\n",
        "!sudo apt install ffmpeg"
      ],
      "metadata": {
        "colab": {
          "base_uri": "https://localhost:8080/"
        },
        "id": "Mab_vG1TTpQ9",
        "outputId": "2f1ac513-0b98-4c23-db91-dce4ddab5d74"
      },
      "execution_count": 1,
      "outputs": [
        {
          "output_type": "stream",
          "name": "stdout",
          "text": [
            "  % Total    % Received % Xferd  Average Speed   Time    Time     Time  Current\n",
            "                                 Dload  Upload   Total   Spent    Left  Speed\n",
            "100     3  100     3    0     0      2      0  0:00:01  0:00:01 --:--:--     2\n",
            "100     3  100     3    0     0      2      0  0:00:01  0:00:01 --:--:--     2\n",
            "100   645  100   645    0     0    428      0  0:00:01  0:00:01 --:--:--   428\n",
            "100 1794k  100 1794k    0     0  1036k      0  0:00:01  0:00:01 --:--:-- 1036k\n",
            "Reading package lists... Done\n",
            "Building dependency tree       \n",
            "Reading state information... Done\n",
            "ffmpeg is already the newest version (7:3.4.8-0ubuntu0.2).\n",
            "0 upgraded, 0 newly installed, 0 to remove and 39 not upgraded.\n"
          ]
        }
      ]
    },
    {
      "cell_type": "code",
      "execution_count": 2,
      "metadata": {
        "colab": {
          "base_uri": "https://localhost:8080/"
        },
        "id": "7kg4bEzqTgRh",
        "outputId": "26e480fb-e51c-411f-e406-74374d500c5f"
      },
      "outputs": [
        {
          "output_type": "stream",
          "name": "stdout",
          "text": [
            "Starting download https://www.youtube.com/watch?v=_5VIXhRqQZU at 2022-04-06 15:01:09\n",
            "Starting download https://www.youtube.com/watch?v=FKn4O_q7WZ8 at 2022-04-06 15:04:41\n",
            "Starting download https://www.youtube.com/watch?v=oqWcTUThM9s at 2022-04-06 15:11:18\n",
            "Starting download https://www.youtube.com/watch?v=SsGiCFYsugo at 2022-04-06 15:14:48\n",
            "Starting download https://www.youtube.com/watch?v=b5Zi-8zwIZo at 2022-04-06 15:18:47\n",
            "Starting download https://www.youtube.com/watch?v=SqKCfO09rXI at 2022-04-06 15:22:22\n",
            "Starting download https://www.youtube.com/watch?v=Dss8g-yRPK8 at 2022-04-06 15:31:13\n",
            "Starting download https://www.youtube.com/watch?v=5YbJhq1nltw at 2022-04-06 15:36:19\n",
            "Starting download https://www.youtube.com/watch?v=nVpWfNtCTGc at 2022-04-06 15:42:56\n"
          ]
        }
      ],
      "source": [
        "## List of videos to download. Playlists work too\n",
        "# Yes it does take a god awful amount of time to download each file...\n",
        "\n",
        "video_urls = [\n",
        "  'https://www.youtube.com/watch?v=_5VIXhRqQZU',\n",
        "  'https://www.youtube.com/watch?v=FKn4O_q7WZ8',\n",
        "  'https://www.youtube.com/watch?v=oqWcTUThM9s',\n",
        "  'https://www.youtube.com/watch?v=SsGiCFYsugo',\n",
        "  'https://www.youtube.com/watch?v=b5Zi-8zwIZo',\n",
        "  'https://www.youtube.com/watch?v=SqKCfO09rXI',\n",
        "  'https://www.youtube.com/watch?v=Dss8g-yRPK8',\n",
        "  'https://www.youtube.com/watch?v=5YbJhq1nltw',\n",
        "  'https://www.youtube.com/watch?v=nVpWfNtCTGc',\n",
        "  # 'https://www.youtube.com/watch?v=OodbwhYlPYM&list=PLxsjoU9MuZr2TO9X9Fsg5UpLTNjPx60Hd', \n",
        "  # 'https://www.youtube.com/watch?v=whoAXWlbUSg&list=PLprWc0lM0UtL7LtTdo_V0fKtiyd29JCtA'\n",
        "]\n",
        "\n",
        "import os, datetime\n",
        "\n",
        "# make directory \n",
        "!mkdir ./audio_downloads\n",
        "\n",
        "for video_url in video_urls:\n",
        "  timenow = f\"{datetime.datetime.now():%Y-%m-%d %H:%M:%S}\"\n",
        "  print(\"Starting download {} at {}\".format(video_url, timenow))\n",
        "  # Download audio only at 16k, yes to downloading playlists too.\n",
        "  # Colab doesn't provide you with output from the terminal but from my experience\n",
        "  # vanilla jupyterlab and paperspace notebooks both do \n",
        "  os.system(\"youtube-dl --ignore-errors --format bestaudio \\\n",
        "            --extract-audio --audio-format wav --audio-quality 16 \\\n",
        "            --yes-playlist -o \\\"./audio_downloads/%(title)s-%(id)s.%(ext)s\\\" {}\" \n",
        "            .format(video_url) \n",
        "  )\n",
        "  \n"
      ]
    },
    {
      "cell_type": "markdown",
      "source": [
        "Save the folder as a tar and download the file. Alternatively you can right click on the left panel and select download from Colab"
      ],
      "metadata": {
        "id": "JHkCbc0qUyHY"
      }
    },
    {
      "cell_type": "code",
      "source": [
        "!tar -cvzf audio_downloads_youtube.tar.gz audio_downloads\n",
        "\n",
        "# Cell will show as completed but file will continue zipping and download when it's done\n",
        "from google.colab import files\n",
        "files.download('audio_downloads_youtube.tar.gz')"
      ],
      "metadata": {
        "colab": {
          "base_uri": "https://localhost:8080/",
          "height": 208
        },
        "id": "6as1niLVTrY4",
        "outputId": "69e343e2-b709-4dfe-b237-c7b8067a6d66"
      },
      "execution_count": 3,
      "outputs": [
        {
          "output_type": "stream",
          "name": "stdout",
          "text": [
            "audio_downloads/\n",
            "audio_downloads/BEST OF Modified Car Sounds 2019 ! N-Largo S F12, 1800HP 9FF, Veilside RX-7, JCR GT3 RS, 720HP M4-FKn4O_q7WZ8.wav\n",
            "audio_downloads/ULTIMATE Turbo Sound Compilation - Spool, Blow Off, Flutter, Anti Lag!-SsGiCFYsugo.wav\n",
            "audio_downloads/Best of Modified Car Sounds 2018!-Dss8g-yRPK8.wav\n",
            "audio_downloads/BEST OF Modified Car Sounds 2021 ! 2000HP GT-R, 1000HP RS6, Novitec 812, Armytrix SVJ, 1250HP Supra-nVpWfNtCTGc.wav\n",
            "audio_downloads/BEST OF SUPERCAR SOUNDS 2021 - CRAZY SOUNDS !-SqKCfO09rXI.wav\n",
            "audio_downloads/Modified EXHAUST Sounds Compilation #1 _ Flames, Bangs, Crackles, Loud REVS, ...-oqWcTUThM9s.wav\n",
            "audio_downloads/Modified CAR Sound‘s Compilation 2018 _ MUST WATCH!! Pops, Bangs, Crackles and Flames!-_5VIXhRqQZU.wav\n",
            "audio_downloads/BEST OF SUPERCAR SOUNDS 2019-5YbJhq1nltw.wav\n",
            "audio_downloads/BEST of Anti-Lag, Exhaust Flames, Pops, Crackles & Backfire Sounds 💥 🔥 _ Happy New Year!-b5Zi-8zwIZo.wav\n"
          ]
        },
        {
          "output_type": "display_data",
          "data": {
            "text/plain": [
              "<IPython.core.display.Javascript object>"
            ],
            "application/javascript": [
              "\n",
              "    async function download(id, filename, size) {\n",
              "      if (!google.colab.kernel.accessAllowed) {\n",
              "        return;\n",
              "      }\n",
              "      const div = document.createElement('div');\n",
              "      const label = document.createElement('label');\n",
              "      label.textContent = `Downloading \"${filename}\": `;\n",
              "      div.appendChild(label);\n",
              "      const progress = document.createElement('progress');\n",
              "      progress.max = size;\n",
              "      div.appendChild(progress);\n",
              "      document.body.appendChild(div);\n",
              "\n",
              "      const buffers = [];\n",
              "      let downloaded = 0;\n",
              "\n",
              "      const channel = await google.colab.kernel.comms.open(id);\n",
              "      // Send a message to notify the kernel that we're ready.\n",
              "      channel.send({})\n",
              "\n",
              "      for await (const message of channel.messages) {\n",
              "        // Send a message to notify the kernel that we're ready.\n",
              "        channel.send({})\n",
              "        if (message.buffers) {\n",
              "          for (const buffer of message.buffers) {\n",
              "            buffers.push(buffer);\n",
              "            downloaded += buffer.byteLength;\n",
              "            progress.value = downloaded;\n",
              "          }\n",
              "        }\n",
              "      }\n",
              "      const blob = new Blob(buffers, {type: 'application/binary'});\n",
              "      const a = document.createElement('a');\n",
              "      a.href = window.URL.createObjectURL(blob);\n",
              "      a.download = filename;\n",
              "      div.appendChild(a);\n",
              "      a.click();\n",
              "      div.remove();\n",
              "    }\n",
              "  "
            ]
          },
          "metadata": {}
        },
        {
          "output_type": "display_data",
          "data": {
            "text/plain": [
              "<IPython.core.display.Javascript object>"
            ],
            "application/javascript": [
              "download(\"download_75f0358d-3a8f-4ef7-be80-98eb25b24435\", \"audio_downloads_youtube.tar.gz\", 2026718781)"
            ]
          },
          "metadata": {}
        }
      ]
    }
  ]
}